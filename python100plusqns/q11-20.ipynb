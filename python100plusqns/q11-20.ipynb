{
 "cells": [
  {
   "cell_type": "markdown",
   "metadata": {},
   "source": [
    "Question 11\n",
    "Level 2\n",
    "\n",
    "Question: Write a program which accepts a sequence of comma separated 4 digit binary numbers as its input and then check whether they are divisible by 5 or not. The numbers that are divisible by 5 are to be printed in a comma separated sequence. Example: 0100,0011,1010,1001 Then the output should be: 1010 Notes: Assume the data is input by console.\n",
    "\n",
    "Hints: In case of input data being supplied to the question, it should be assumed to be a console input."
   ]
  },
  {
   "cell_type": "code",
   "execution_count": 3,
   "metadata": {},
   "outputs": [
    {
     "name": "stdout",
     "output_type": "stream",
     "text": [
      "0100,0011,1010,1001\n",
      "1010\n"
     ]
    }
   ],
   "source": [
    "divFive = []\n",
    "binNums = [x for x in input().split(\",\")]\n",
    "for x in binNums:\n",
    "    if int(x, 2) % 5 == 0:\n",
    "        divFive.append(x)\n",
    "\n",
    "print(\",\".join(divFive))"
   ]
  },
  {
   "cell_type": "markdown",
   "metadata": {},
   "source": [
    "Question 12\n",
    "Level 2\n",
    "\n",
    "Question: Write a program, which will find all such numbers between 1000 and 3000 (both included) such that each digit of the number is an even number. The numbers obtained should be printed in a comma-separated sequence on a single line.\n",
    "\n",
    "Hints: In case of input data being supplied to the question, it should be assumed to be a console input."
   ]
  },
  {
   "cell_type": "code",
   "execution_count": 18,
   "metadata": {
    "scrolled": true
   },
   "outputs": [
    {
     "name": "stdout",
     "output_type": "stream",
     "text": [
      "2000,2002,2004,2006,2008,2020,2022,2024,2026,2028,2040,2042,2044,2046,2048,2060,2062,2064,2066,2068,2080,2082,2084,2086,2088,2200,2202,2204,2206,2208,2220,2222,2224,2226,2228,2240,2242,2244,2246,2248,2260,2262,2264,2266,2268,2280,2282,2284,2286,2288,2400,2402,2404,2406,2408,2420,2422,2424,2426,2428,2440,2442,2444,2446,2448,2460,2462,2464,2466,2468,2480,2482,2484,2486,2488,2600,2602,2604,2606,2608,2620,2622,2624,2626,2628,2640,2642,2644,2646,2648,2660,2662,2664,2666,2668,2680,2682,2684,2686,2688,2800,2802,2804,2806,2808,2820,2822,2824,2826,2828,2840,2842,2844,2846,2848,2860,2862,2864,2866,2868,2880,2882,2884,2886,2888\n"
     ]
    }
   ],
   "source": [
    "\n",
    "evenDigits = []\n",
    "for x in range(1000, 3001):\n",
    "    x = str(x)\n",
    "    if int(x[0]) % 2 == 0 and int(x[1]) % 2 == 0 and int(x[2]) % 2 == 0 and int(x[3]) % 2 == 0:\n",
    "        evenDigits.append(x)\n",
    "        \n",
    "print(\",\".join(evenDigits))"
   ]
  },
  {
   "cell_type": "code",
   "execution_count": 6,
   "metadata": {},
   "outputs": [
    {
     "name": "stdout",
     "output_type": "stream",
     "text": [
      "1000\n",
      "3001\n",
      "['2000', '2001', '2002', '2003', '2004', '2005', '2006', '2007', '2008', '2009', '2020', '2021', '2022', '2023', '2024', '2025', '2026', '2027', '2028', '2029', '2040', '2041', '2042', '2043', '2044', '2045', '2046', '2047', '2048', '2049', '2060', '2061', '2062', '2063', '2064', '2065', '2066', '2067', '2068', '2069', '2080', '2081', '2082', '2083', '2084', '2085', '2086', '2087', '2088', '2089', '2200', '2201', '2202', '2203', '2204', '2205', '2206', '2207', '2208', '2209', '2220', '2221', '2222', '2223', '2224', '2225', '2226', '2227', '2228', '2229', '2240', '2241', '2242', '2243', '2244', '2245', '2246', '2247', '2248', '2249', '2260', '2261', '2262', '2263', '2264', '2265', '2266', '2267', '2268', '2269', '2280', '2281', '2282', '2283', '2284', '2285', '2286', '2287', '2288', '2289', '2400', '2401', '2402', '2403', '2404', '2405', '2406', '2407', '2408', '2409', '2420', '2421', '2422', '2423', '2424', '2425', '2426', '2427', '2428', '2429', '2440', '2441', '2442', '2443', '2444', '2445', '2446', '2447', '2448', '2449', '2460', '2461', '2462', '2463', '2464', '2465', '2466', '2467', '2468', '2469', '2480', '2481', '2482', '2483', '2484', '2485', '2486', '2487', '2488', '2489', '2600', '2601', '2602', '2603', '2604', '2605', '2606', '2607', '2608', '2609', '2620', '2621', '2622', '2623', '2624', '2625', '2626', '2627', '2628', '2629', '2640', '2641', '2642', '2643', '2644', '2645', '2646', '2647', '2648', '2649', '2660', '2661', '2662', '2663', '2664', '2665', '2666', '2667', '2668', '2669', '2680', '2681', '2682', '2683', '2684', '2685', '2686', '2687', '2688', '2689', '2800', '2801', '2802', '2803', '2804', '2805', '2806', '2807', '2808', '2809', '2820', '2821', '2822', '2823', '2824', '2825', '2826', '2827', '2828', '2829', '2840', '2841', '2842', '2843', '2844', '2845', '2846', '2847', '2848', '2849', '2860', '2861', '2862', '2863', '2864', '2865', '2866', '2867', '2868', '2869', '2880', '2881', '2882', '2883', '2884', '2885', '2886', '2887', '2888', '2889']\n"
     ]
    }
   ],
   "source": [
    "evenDigits = []\n",
    "for x in range(int(input()), int(input())):\n",
    "    x = str(x)\n",
    "    length = len(x)\n",
    "    if int(x[0]) % 2 == 0 \n",
    "            \n",
    "print(evenDigits)"
   ]
  },
  {
   "cell_type": "markdown",
   "metadata": {},
   "source": [
    "Question 13\n",
    "Level 2\n",
    "\n",
    "Question: Write a program that accepts a sentence and calculate the number of letters and digits. Suppose the following input is supplied to the program: hello world! 123 Then, the output should be: LETTERS 10 DIGITS 3\n",
    "\n",
    "Hints: In case of input data being supplied to the question, it should be assumed to be a console input."
   ]
  },
  {
   "cell_type": "code",
   "execution_count": 14,
   "metadata": {},
   "outputs": [
    {
     "name": "stdout",
     "output_type": "stream",
     "text": [
      "hello world 123!\n",
      "LETTERS 10 DIGITS 3\n"
     ]
    }
   ],
   "source": [
    "import string\n",
    "\n",
    "alphabets = string.ascii_lowercase\n",
    "letters = list(alphabets)\n",
    "nums = string.digits\n",
    "digits = list(nums)\n",
    "\n",
    "numCount = 0\n",
    "letterCount = 0\n",
    "\n",
    "n = input()\n",
    "for i in n:\n",
    "    if i.lower() in letters:\n",
    "        letterCount += 1\n",
    "    elif i in digits:\n",
    "        numCount += 1\n",
    "    \n",
    "print(f\"LETTERS {letterCount} DIGITS {numCount}\")\n",
    "    "
   ]
  },
  {
   "cell_type": "markdown",
   "metadata": {},
   "source": [
    "Question 14\n",
    "Level 2\n",
    "\n",
    "Question: Write a program that accepts a sentence and calculate the number of upper case letters and lower case letters. Suppose the following input is supplied to the program: Hello world! Then, the output should be: UPPER CASE 1 LOWER CASE 9\n",
    "\n",
    "Hints: In case of input data being supplied to the question, it should be assumed to be a console input."
   ]
  },
  {
   "cell_type": "code",
   "execution_count": 15,
   "metadata": {},
   "outputs": [
    {
     "name": "stdout",
     "output_type": "stream",
     "text": [
      "Hello world!\n",
      "UPPER CASE 1 LOWER CASE 9\n"
     ]
    }
   ],
   "source": [
    "import string\n",
    "\n",
    "upper = list(string.ascii_uppercase)\n",
    "lower = list(string.ascii_lowercase)\n",
    "\n",
    "upperCount = 0\n",
    "lowerCount = 0\n",
    "\n",
    "n = input()\n",
    "for i in n:\n",
    "    if i in upper:\n",
    "        upperCount += 1\n",
    "    elif i in lower:\n",
    "        lowerCount += 1\n",
    "        \n",
    "print(f\"UPPER CASE {upperCount} LOWER CASE {lowerCount}\")"
   ]
  },
  {
   "cell_type": "markdown",
   "metadata": {},
   "source": [
    "Question 15\n",
    "Level 2\n",
    "\n",
    "Question: Write a program that computes the value of a+aa+aaa+aaaa with a given digit as the value of a. Suppose the following input is supplied to the program: 9 Then, the output should be: 11106\n",
    "\n",
    "Hints: In case of input data being supplied to the question, it should be assumed to be a console input."
   ]
  },
  {
   "cell_type": "code",
   "execution_count": 20,
   "metadata": {},
   "outputs": [
    {
     "name": "stdout",
     "output_type": "stream",
     "text": [
      "9\n",
      "11106\n"
     ]
    }
   ],
   "source": [
    "a = int(input())\n",
    "\n",
    "n1 = int(f\"{a}\")\n",
    "n2 = int(f\"{a}{a}\")\n",
    "n3 = int(f\"{a}{a}{a}\")\n",
    "n4 = int(f\"{a}{a}{a}{a}\")\n",
    "\n",
    "print(n1+n2+n3+n4)"
   ]
  },
  {
   "cell_type": "markdown",
   "metadata": {},
   "source": [
    "Question 16\n",
    "Level 2\n",
    "\n",
    "Question: Use a list comprehension to square each odd number in a list. The list is input by a sequence of comma-separated numbers. Suppose the following input is supplied to the program: 1,2,3,4,5,6,7,8,9 Then, the output should be: 1,3,5,7,9\n",
    "\n",
    "Hints: In case of input data being supplied to the question, it should be assumed to be a console input."
   ]
  },
  {
   "cell_type": "code",
   "execution_count": 24,
   "metadata": {},
   "outputs": [
    {
     "name": "stdout",
     "output_type": "stream",
     "text": [
      "1,2,3,4,5,6,7,8,9\n",
      "1,3,5,7,9\n"
     ]
    }
   ],
   "source": [
    "numEven = [x for x in input().split(\",\") if int(x) % 2 == 1]\n",
    "\n",
    "print(\",\".join(numEven))"
   ]
  },
  {
   "cell_type": "markdown",
   "metadata": {},
   "source": [
    "Question 17\n",
    "Level 2\n",
    "\n",
    "Question: Write a program that computes the net amount of a bank account based a transaction log from console input. The transaction log format is shown as following: D 100 W 200\n",
    "\n",
    "D means deposit while W means withdrawal. Suppose the following input is supplied to the program: D 300 D 300 W 200 D 100 Then, the output should be: 500\n",
    "\n",
    "Hints: In case of input data being supplied to the question, it should be assumed to be a console input."
   ]
  },
  {
   "cell_type": "code",
   "execution_count": 36,
   "metadata": {},
   "outputs": [
    {
     "name": "stdout",
     "output_type": "stream",
     "text": [
      "D 300\n",
      "D 300\n",
      "W 200\n",
      "D 100\n",
      "\n",
      "500\n"
     ]
    }
   ],
   "source": [
    "# output = D - W\n",
    "\n",
    "netAmt = 0\n",
    "\n",
    "while True:\n",
    "    s = input()\n",
    "    if not s:\n",
    "        break\n",
    "    values = s.split()\n",
    "    operation = values[0]\n",
    "    amount = int(values[1])\n",
    "    \n",
    "    if operation == \"D\":\n",
    "        netAmt += amount\n",
    "    if operation == \"W\":\n",
    "        netAmt -= amount\n",
    "    else:\n",
    "        pass\n",
    "        \n",
    "print(netAmt)"
   ]
  },
  {
   "cell_type": "code",
   "execution_count": 40,
   "metadata": {},
   "outputs": [
    {
     "name": "stdout",
     "output_type": "stream",
     "text": [
      "D 300 D 300 W 200 D 100\n",
      "500\n"
     ]
    }
   ],
   "source": [
    "netAmt = 0\n",
    "\n",
    "logs = [x for x in input().split()]\n",
    "\n",
    "for i in range(len(logs)):\n",
    "    if logs[i] == \"D\":\n",
    "        netAmt += int(logs[i+1])\n",
    "    if logs[i] == \"W\":\n",
    "        netAmt -= int(logs[i+1])\n",
    "    else:\n",
    "        pass\n",
    "\n",
    "print(netAmt)\n",
    "    "
   ]
  },
  {
   "cell_type": "markdown",
   "metadata": {},
   "source": [
    "Question 18\n",
    "Level 3\n",
    "\n",
    "Question: A website requires the users to input username and password to register. Write a program to check the validity of password input by users. Following are the criteria for checking the password:\n",
    "\n",
    "At least 1 letter between [a-z]\n",
    "At least 1 number between [0-9]\n",
    "At least 1 letter between [A-Z]\n",
    "At least 1 character from [$#@]\n",
    "Minimum length of transaction password: 6\n",
    "Maximum length of transaction password: 12 Your program should accept a sequence of comma separated passwords and will check them according to the above criteria. Passwords that match the criteria are to be printed, each separated by a comma. Example If the following passwords are given as input to the program: ABd1234@1,a F1#,2w3E*,2We3345 Then, the output of the program should be: ABd1234@1\n",
    "Hints: In case of input data being supplied to the question, it should be assumed to be a console input."
   ]
  },
  {
   "cell_type": "code",
   "execution_count": null,
   "metadata": {},
   "outputs": [],
   "source": []
  },
  {
   "cell_type": "markdown",
   "metadata": {},
   "source": [
    "Question 19\n",
    "Level 3\n",
    "\n",
    "Question: You are required to write a program to sort the (name, age, height) tuples by ascending order where name is string, age and height are numbers. The tuples are input by console. The sort criteria is: 1: Sort based on name; 2: Then sort based on age; 3: Then sort by score. The priority is that name > age > score. If the following tuples are given as input to the program: Tom,19,80 John,20,90 Jony,17,91 Jony,17,93 Json,21,85 Then, the output of the program should be: [('John', '20', '90'), ('Jony', '17', '91'), ('Jony', '17', '93'), ('Json', '21', '85'), ('Tom', '19', '80')]\n",
    "\n",
    "Hints: In case of input data being supplied to the question, it should be assumed to be a console input. We use itemgetter to enable multiple sort keys.\n",
    "\n",
    "Solutions: from operator import itemgetter, attrgetter"
   ]
  },
  {
   "cell_type": "code",
   "execution_count": null,
   "metadata": {},
   "outputs": [],
   "source": []
  },
  {
   "cell_type": "markdown",
   "metadata": {},
   "source": [
    "Question 20\n",
    "Level 3\n",
    "\n",
    "Question: Define a class with a generator which can iterate the numbers, which are divisible by 7, between a given range 0 and n.\n",
    "\n",
    "Hints: Consider use yield"
   ]
  },
  {
   "cell_type": "code",
   "execution_count": 64,
   "metadata": {},
   "outputs": [],
   "source": [
    "def genSeven(n):\n",
    "    for i in range(n+1):\n",
    "        if i % 7 == 0:\n",
    "            yield i\n",
    "        else:\n",
    "            pass"
   ]
  },
  {
   "cell_type": "code",
   "execution_count": 65,
   "metadata": {},
   "outputs": [
    {
     "name": "stdout",
     "output_type": "stream",
     "text": [
      "0\n",
      "7\n",
      "14\n",
      "21\n",
      "28\n",
      "35\n",
      "42\n"
     ]
    }
   ],
   "source": [
    "gen = genSeven(42)\n",
    "\n",
    "for num in gen:\n",
    "    print(num)"
   ]
  }
 ],
 "metadata": {
  "kernelspec": {
   "display_name": "Python 3",
   "language": "python",
   "name": "python3"
  },
  "language_info": {
   "codemirror_mode": {
    "name": "ipython",
    "version": 3
   },
   "file_extension": ".py",
   "mimetype": "text/x-python",
   "name": "python",
   "nbconvert_exporter": "python",
   "pygments_lexer": "ipython3",
   "version": "3.8.3"
  }
 },
 "nbformat": 4,
 "nbformat_minor": 4
}
