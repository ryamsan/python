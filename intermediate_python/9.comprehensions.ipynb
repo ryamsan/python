{
 "cells": [
  {
   "cell_type": "code",
   "execution_count": 1,
   "metadata": {},
   "outputs": [],
   "source": [
    "# • list comprehensions\n",
    "# • dictionary comprehensions\n",
    "# • set comprehensions\n",
    "# • generator comprehensions\n"
   ]
  },
  {
   "cell_type": "markdown",
   "metadata": {},
   "source": [
    "## list comprehensions\n",
    "List comprehensions provide a short and concise way to create lists. It consists of\n",
    "square brackets containing an expression followed by a for clause, then zero or more\n",
    "for or if clauses. The expressions can be anything, meaning you can put in all kinds\n",
    "of objects in lists. The result would be a new list made after the evaluation of the\n",
    "expression in context of the if and for clauses.\n"
   ]
  },
  {
   "cell_type": "code",
   "execution_count": 2,
   "metadata": {},
   "outputs": [
    {
     "name": "stdout",
     "output_type": "stream",
     "text": [
      "[0, 3, 6, 9, 12, 15, 18, 21, 24, 27]\n"
     ]
    }
   ],
   "source": [
    "multiples = [i for i in range(30) if i % 3 == 0]\n",
    "print(multiples)"
   ]
  },
  {
   "cell_type": "code",
   "execution_count": 3,
   "metadata": {},
   "outputs": [
    {
     "name": "stdout",
     "output_type": "stream",
     "text": [
      "[0, 1, 4, 9, 16, 25, 36, 49, 64, 81]\n"
     ]
    }
   ],
   "source": [
    "# squared = []\n",
    "# for x in range(10):\n",
    "#     squared.append(x**2)\n",
    "    \n",
    "squared = [x**2 for x in range(10)]\n",
    "print(squared)"
   ]
  },
  {
   "cell_type": "markdown",
   "metadata": {},
   "source": [
    "## dict comprehensions\n",
    "They are used in a similar way"
   ]
  },
  {
   "cell_type": "code",
   "execution_count": 11,
   "metadata": {},
   "outputs": [
    {
     "name": "stdout",
     "output_type": "stream",
     "text": [
      "{'a': 17, 'b': 34, 'z': 3}\n"
     ]
    }
   ],
   "source": [
    "mcase = {'a': 10, 'b': 34, 'A': 7, 'Z': 3}\n",
    "\n",
    "mcase_frequency = {\n",
    "    k.lower(): mcase.get(k.lower(), 0) + mcase.get(k.upper(), 0)\n",
    "    for k in mcase.keys()\n",
    "}\n",
    "\n",
    "print(mcase_frequency)"
   ]
  },
  {
   "cell_type": "code",
   "execution_count": 17,
   "metadata": {},
   "outputs": [
    {
     "name": "stdout",
     "output_type": "stream",
     "text": [
      "{'Smith': 'Ryann', 'Williams': 'Bryce', 'Keeves': 'Michael'}\n"
     ]
    }
   ],
   "source": [
    "# You can also quickly switch keys and values of a dictionary:\n",
    "# {v: k for k, v in some_dict.items()}\n",
    "\n",
    "dictName = {\n",
    "    \"Ryann\": \"Smith\",\n",
    "    \"Bryce\": \"Williams\",\n",
    "    \"Michael\": \"Keeves\"\n",
    "}\n",
    "\n",
    "dictNameSwitched = {v: k for k, v in dictName.items()}\n",
    "print(dictNameSwitched)"
   ]
  },
  {
   "cell_type": "markdown",
   "metadata": {},
   "source": [
    "## set comprehensions\n",
    "They are also similar to list comprehensions. The only difference is that they use braces\n",
    "{}"
   ]
  },
  {
   "cell_type": "code",
   "execution_count": 25,
   "metadata": {},
   "outputs": [
    {
     "name": "stdout",
     "output_type": "stream",
     "text": [
      "{1, 4, 9, 16, 25}\n"
     ]
    }
   ],
   "source": [
    "squared = {x**2 for x in [1, 1, 2, 3, 3, 4, 5, 5]}\n",
    "print(squared)"
   ]
  },
  {
   "cell_type": "markdown",
   "metadata": {},
   "source": [
    "## generator comprehensions\n",
    "They are also similar to list comprehensions. The only difference is that they don’t\n",
    "allocate memory for the whole list but generate one item at a time, thus more memory\n",
    "efficient.\n"
   ]
  },
  {
   "cell_type": "code",
   "execution_count": 31,
   "metadata": {},
   "outputs": [
    {
     "name": "stdout",
     "output_type": "stream",
     "text": [
      "<generator object <genexpr> at 0x000001DB3AF43E40>\n",
      "0\n",
      "3\n",
      "6\n",
      "9\n"
     ]
    }
   ],
   "source": [
    "multiplesGen = (i for i in range(30) if i % 3 == 0)\n",
    "print(multiplesGen)\n",
    "\n",
    "# for x in multiplesGen:\n",
    "#     print(x)\n",
    "\n",
    "print(next(multiplesGen))\n",
    "print(next(multiplesGen))\n",
    "print(next(multiplesGen))\n",
    "print(next(multiplesGen))\n"
   ]
  },
  {
   "cell_type": "code",
   "execution_count": null,
   "metadata": {},
   "outputs": [],
   "source": []
  }
 ],
 "metadata": {
  "kernelspec": {
   "display_name": "Python 3",
   "language": "python",
   "name": "python3"
  },
  "language_info": {
   "codemirror_mode": {
    "name": "ipython",
    "version": 3
   },
   "file_extension": ".py",
   "mimetype": "text/x-python",
   "name": "python",
   "nbconvert_exporter": "python",
   "pygments_lexer": "ipython3",
   "version": "3.8.3"
  }
 },
 "nbformat": 4,
 "nbformat_minor": 4
}
