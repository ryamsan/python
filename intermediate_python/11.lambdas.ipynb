{
 "cells": [
  {
   "cell_type": "markdown",
   "metadata": {},
   "source": [
    "### Lambdas are one line functions. \n",
    "They are also known as anonymous functions in\n",
    "some other languages. You might want to use lambdas when you don’t want to use a\n",
    "function twice in a program. They are just like normal functions and even behave like\n",
    "them."
   ]
  },
  {
   "cell_type": "code",
   "execution_count": 1,
   "metadata": {},
   "outputs": [
    {
     "name": "stdout",
     "output_type": "stream",
     "text": [
      "6\n"
     ]
    }
   ],
   "source": [
    "add = lambda x, y: x + y\n",
    "\n",
    "print(add(2, 4))"
   ]
  },
  {
   "cell_type": "markdown",
   "metadata": {},
   "source": [
    "Here are a few useful use cases for lambdas and just a few ways in which they are\n",
    "used in the wild"
   ]
  },
  {
   "cell_type": "code",
   "execution_count": 6,
   "metadata": {},
   "outputs": [
    {
     "name": "stdout",
     "output_type": "stream",
     "text": [
      "[(13, -3), (4, 1), (1, 2), (9, 10)]\n",
      "[(1, 2), (4, 1), (9, 10), (13, -3)]\n"
     ]
    }
   ],
   "source": [
    "# List sorting\n",
    "\n",
    "a = [(1, 2), (4, 1), (9, 10), (13, -3)]\n",
    "\n",
    "a.sort(key=lambda x: x[1])\n",
    "print(a)\n",
    "a.sort(key=lambda x: x[0])\n",
    "print(a)"
   ]
  },
  {
   "cell_type": "code",
   "execution_count": 29,
   "metadata": {},
   "outputs": [
    {
     "name": "stdout",
     "output_type": "stream",
     "text": [
      "[1, 2, 3, 10] ['g', 'b', 'd', 'a']\n"
     ]
    }
   ],
   "source": [
    "# Parallel sorting of lists\n",
    "\n",
    "list1 = [1, 3, 2, 10]\n",
    "list2 = ['g', 'd', 'b', 'a']\n",
    "\n",
    "data = list(zip(list1, list2))\n",
    "\n",
    "data.sort(key=lambda x:x[0])\n",
    "\n",
    "list1, list2 = map(lambda t: list(t), zip(*data))\n",
    "\n",
    "print(list1, list2)"
   ]
  },
  {
   "cell_type": "code",
   "execution_count": 30,
   "metadata": {},
   "outputs": [
    {
     "name": "stdout",
     "output_type": "stream",
     "text": [
      "[1, 2, 3, 10] ['g', 'b', 'd', 'a']\n"
     ]
    }
   ],
   "source": [
    "data = zip(list1, list2)\n",
    "data = sorted(data)\n",
    "list1, list2 = map(lambda t: list(t), zip(*data))\n",
    "print(list1, list2)"
   ]
  },
  {
   "cell_type": "code",
   "execution_count": null,
   "metadata": {},
   "outputs": [],
   "source": []
  }
 ],
 "metadata": {
  "kernelspec": {
   "display_name": "Python 3",
   "language": "python",
   "name": "python3"
  },
  "language_info": {
   "codemirror_mode": {
    "name": "ipython",
    "version": 3
   },
   "file_extension": ".py",
   "mimetype": "text/x-python",
   "name": "python",
   "nbconvert_exporter": "python",
   "pygments_lexer": "ipython3",
   "version": "3.8.3"
  }
 },
 "nbformat": 4,
 "nbformat_minor": 4
}
